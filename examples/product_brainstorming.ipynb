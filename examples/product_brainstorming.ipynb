{
 "cells": [
  {
   "cell_type": "markdown",
   "metadata": {},
   "source": [
    "# Product Brainstorming\n",
    "\n",
    "Can we use TinyTroupe to brainstorm product ideas?"
   ]
  },
  {
   "cell_type": "code",
   "execution_count": 1,
   "metadata": {},
   "outputs": [
    {
     "name": "stdout",
     "output_type": "stream",
     "text": [
      "\n",
      "!!!!\n",
      "DISCLAIMER: TinyTroupe relies on Artificial Intelligence (AI) models to generate content. \n",
      "The AI models are not perfect and may produce inappropriate or inaccurate results. \n",
      "For any serious or consequential use, please review the generated content before using it.\n",
      "!!!!\n",
      "\n",
      "Looking for default config on: s:\\TinyTroupeOllama\\examples\\..\\tinytroupe\\config.ini\n",
      "Found custom config on: s:\\TinyTroupeOllama\\examples\\config.ini\n",
      "\n",
      "=================================\n",
      "Current TinyTroupe configuration \n",
      "=================================\n",
      "[OpenAI]\n",
      "api_type = openai\n",
      "azure_api_version = 2023-05-15\n",
      "model = llama3.2\n",
      "max_tokens = 4000\n",
      "temperature = 1.5\n",
      "freq_penalty = 0.3\n",
      "presence_penalty = 0.0\n",
      "timeout = 60\n",
      "max_attempts = 5\n",
      "waiting_time = 2\n",
      "exponential_backoff_factor = 5\n",
      "embedding_model = mxbai-embed-large:latest\n",
      "cache_api_calls = False\n",
      "cache_file_name = openai_api_cache.pickle\n",
      "max_content_display_length = 1024\n",
      "openai_api_base = http://localhost:11434\n",
      "\n",
      "[Simulation]\n",
      "rai_harmful_content_prevention = True\n",
      "rai_copyright_infringement_prevention = True\n",
      "\n",
      "[Logging]\n",
      "loglevel = ERROR\n",
      "\n"
     ]
    }
   ],
   "source": [
    "import json\n",
    "import sys\n",
    "sys.path.append('..')\n",
    "\n",
    "import tinytroupe\n",
    "from tinytroupe.agent import TinyPerson\n",
    "from tinytroupe.environment import TinyWorld, TinySocialNetwork\n",
    "from tinytroupe.examples import *\n",
    "\n",
    "# Ensure the custom model is recognized\n",
    "from llama_index.embeddings.openai.base import OpenAIEmbedding\n",
    "from llama_index.embeddings.openai.openai_embedding_model_type import OpenAIEmbeddingModelType\n",
    "\n",
    "# Check if the model is recognized\n",
    "embedding_model = 'mxbai-embed-large:latest'\n",
    "if embedding_model not in OpenAIEmbeddingModelType._value2member_map_:\n",
    "    raise ValueError(f\"'{embedding_model}' is not a valid OpenAIEmbeddingModelType\")\n",
    "\n",
    "# Initialize the embedding model\n",
    "llmaindex_openai_embed_model = OpenAIEmbedding(model=embedding_model, embed_batch_size=10)\n",
    "Settings.embed_model = llmaindex_openai_embed_model\n"
   ]
  },
  {
   "cell_type": "code",
   "execution_count": 2,
   "metadata": {},
   "outputs": [],
   "source": [
    "world = TinyWorld(\"Focus group\", [create_lisa_the_data_scientist(), create_oscar_the_architect(), create_marcos_the_physician()])"
   ]
  },
  {
   "cell_type": "code",
   "execution_count": null,
   "metadata": {},
   "outputs": [],
   "source": [
    "world.broadcast(\"\"\"\n",
    "                Hello everyone! Let's start by introducing ourselves. What is your job and what are some major problems you face in your work? \n",
    "                What are major challenges for your industry as a whole? Don't discuss solutions yet, just the problems you face.\n",
    "                \"\"\")\n"
   ]
  },
  {
   "cell_type": "code",
   "execution_count": null,
   "metadata": {},
   "outputs": [],
   "source": [
    "world.run(1)"
   ]
  },
  {
   "cell_type": "code",
   "execution_count": null,
   "metadata": {},
   "outputs": [],
   "source": [
    "world.broadcast(\"\"\"\n",
    "                Folks, your mission is to brainstorm potential AI feature ideas\n",
    "                to add to Microsoft Word. In general, we want features that make you or your industry more productive,\n",
    "                taking advantage of all the latest AI technologies. Think about the problems you described - what could help with them? \n",
    "                Avoid obvious ideas, like summarization or translation. Also avoid simple things like minor UI improvements. \n",
    "                We want to think big here - you can fully reimagine Word if that's what it takes. \n",
    "                Do not worry about implementation details, marketing, or any other business considerations. \n",
    "                Just focus on the AI feature ideas themselves. Select and develop the most promising ideas.\n",
    "                    \n",
    "                Please start the discussion now.\n",
    "                \"\"\")"
   ]
  },
  {
   "cell_type": "code",
   "execution_count": null,
   "metadata": {},
   "outputs": [],
   "source": [
    "world.run(4)"
   ]
  },
  {
   "cell_type": "code",
   "execution_count": null,
   "metadata": {},
   "outputs": [],
   "source": [
    "world.broadcast(\"\"\"\n",
    "                Ok, great. Now please add more details to these ideas - we need to understand them better. How would they actually integrate with Word? \n",
    "                Can you provide some concrete examples of what customers could do?\n",
    "                \"\"\")"
   ]
  },
  {
   "cell_type": "code",
   "execution_count": null,
   "metadata": {},
   "outputs": [],
   "source": [
    "world.run(2)"
   ]
  },
  {
   "cell_type": "code",
   "execution_count": 9,
   "metadata": {},
   "outputs": [],
   "source": [
    "rapporteur = world.get_agent_by_name(\"Lisa\")"
   ]
  },
  {
   "cell_type": "code",
   "execution_count": null,
   "metadata": {},
   "outputs": [],
   "source": [
    "rapporteur.listen_and_act(\"Can you please consolidate the ideas that the group came up with? Provide a lot of details on each idea, and complement anything missing.\")"
   ]
  },
  {
   "cell_type": "code",
   "execution_count": null,
   "metadata": {},
   "outputs": [],
   "source": [
    "from tinytroupe.extraction import ResultsExtractor\n",
    "\n",
    "extractor = ResultsExtractor()\n",
    "\n",
    "extractor.extract_results_from_agent(rapporteur, \n",
    "                          extraction_objective=\"Consolidates the ideas that the group came up with, explaining each idea as an item of a list.\" \\\n",
    "                                               \"Add all relevant details, including key benefits and drawbacks, if any.\", \n",
    "                          situation=\"A focus group to brainstorm AI feature ideas for Microsoft Word.\")"
   ]
  },
  {
   "cell_type": "code",
   "execution_count": null,
   "metadata": {},
   "outputs": [],
   "source": []
  }
 ],
 "metadata": {
  "kernelspec": {
   "display_name": ".venv",
   "language": "python",
   "name": "python3"
  },
  "language_info": {
   "codemirror_mode": {
    "name": "ipython",
    "version": 3
   },
   "file_extension": ".py",
   "mimetype": "text/x-python",
   "name": "python",
   "nbconvert_exporter": "python",
   "pygments_lexer": "ipython3",
   "version": "3.11.9"
  },
  "orig_nbformat": 4
 },
 "nbformat": 4,
 "nbformat_minor": 2
}
