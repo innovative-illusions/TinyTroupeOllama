{
 "cells": [
  {
   "cell_type": "markdown",
   "metadata": {},
   "source": [
    "# Product Brainstorming\n",
    "\n",
    "Can we use TinyTroupe to brainstorm product ideas?"
   ]
  },
  {
   "cell_type": "code",
   "execution_count": null,
   "metadata": {},
   "outputs": [],
   "source": [
    "import json\n",
    "import sys\n",
    "sys.path.append('..')\n",
    "\n",
    "import tinytroupe\n",
    "from tinytroupe.agent import TinyPerson\n",
    "from tinytroupe.environment import TinyWorld, TinySocialNetwork\n",
    "from tinytroupe.examples import *\n",
    "from custom_provider import TinyPerson, get_chat_completion, get_embedding  # Import the new provider\n"
   ]
  },
  {
   "cell_type": "code",
   "execution_count": 2,
   "metadata": {},
   "outputs": [],
   "source": [
    "world = TinyWorld(\"Focus group\", [create_lisa_the_data_scientist(), create_oscar_the_architect(), create_marcos_the_physician()])"
   ]
  },
  {
   "cell_type": "code",
   "execution_count": null,
   "metadata": {},
   "outputs": [],
   "source": [
    "world.broadcast(\"\"\"\n",
    "                Hey everyone! Let's start by introducing ourselves. What is your job and what are some major problems you face in your work? \n",
    "                What are major challenges for your industry as a whole? Don't discuss solutions yet, just the problems you face.\n",
    "                \"\"\")\n"
   ]
  },
  {
   "cell_type": "code",
   "execution_count": null,
   "metadata": {},
   "outputs": [],
   "source": [
    "world.run(1)"
   ]
  },
  {
   "cell_type": "code",
   "execution_count": null,
   "metadata": {},
   "outputs": [],
   "source": [
    "world.broadcast(\"\"\"\n",
    "                Folks, your mission is to brainstorm potential AI feature ideas\n",
    "                to add to Microsoft Word. In general, we want features that make you or your industry more productive,\n",
    "                taking advantage of all the latest AI technologies. Think about the problems you described - what could help with them? \n",
    "                Avoid obvious ideas, like summarization or translation. Also avoid simple things like minor UI improvements. \n",
    "                We want to think big here - you can fully reimagine Word if that's what it takes. \n",
    "                Do not worry about implementation details, marketing, or any other business considerations. \n",
    "                Just focus on the AI feature ideas themselves. Select and develop the most promising ideas.\n",
    "                    \n",
    "                Please start the discussion now.\n",
    "                \"\"\")"
   ]
  },
  {
   "cell_type": "code",
   "execution_count": null,
   "metadata": {},
   "outputs": [],
   "source": [
    "world.run(4)"
   ]
  },
  {
   "cell_type": "code",
   "execution_count": null,
   "metadata": {},
   "outputs": [],
   "source": [
    "world.broadcast(\"\"\"\n",
    "                Ok, great. Now please add more details to these ideas - we need to understand them better. How would they actually integrate with Word? \n",
    "                Can you provide some concrete examples of what customers could do?\n",
    "                \"\"\")"
   ]
  },
  {
   "cell_type": "code",
   "execution_count": null,
   "metadata": {},
   "outputs": [],
   "source": [
    "world.run(2)"
   ]
  },
  {
   "cell_type": "code",
   "execution_count": 9,
   "metadata": {},
   "outputs": [],
   "source": [
    "rapporteur = world.get_agent_by_name(\"Lisa\")"
   ]
  },
  {
   "cell_type": "code",
   "execution_count": null,
   "metadata": {},
   "outputs": [],
   "source": [
    "rapporteur.listen_and_act(\"Can you please consolidate the ideas that the group came up with? Provide a lot of details on each idea, and complement anything missing.\")"
   ]
  },
  {
   "cell_type": "code",
   "execution_count": null,
   "metadata": {},
   "outputs": [],
   "source": [
    "from tinytroupe.extraction import ResultsExtractor\n",
    "\n",
    "extractor = ResultsExtractor()\n",
    "\n",
    "extractor.extract_results_from_agent(rapporteur, \n",
    "                          extraction_objective=\"Consolidates the ideas that the group came up with, explaining each idea as an item of a list.\" \\\n",
    "                                               \"Add all relevant details, including key benefits and drawbacks, if any.\", \n",
    "                          situation=\"A focus group to brainstorm AI feature ideas for Microsoft Word.\")"
   ]
  },
  {
   "cell_type": "code",
   "execution_count": null,
   "metadata": {},
   "outputs": [],
   "source": []
  }
 ],
 "metadata": {
  "kernelspec": {
   "display_name": "Python 3",
   "language": "python",
   "name": "python3"
  },
  "language_info": {
   "codemirror_mode": {
    "name": "ipython",
    "version": 3
   },
   "file_extension": ".py",
   "mimetype": "text/x-python",
   "name": "python",
   "nbconvert_exporter": "python",
   "pygments_lexer": "ipython3",
   "version": "3.10.13"
  },
  "orig_nbformat": 4
 },
 "nbformat": 4,
 "nbformat_minor": 2
}
